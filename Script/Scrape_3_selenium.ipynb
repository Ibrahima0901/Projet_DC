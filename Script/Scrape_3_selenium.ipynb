{
 "cells": [
  {
   "cell_type": "code",
   "execution_count": 24,
   "metadata": {},
   "outputs": [
    {
     "name": "stdout",
     "output_type": "stream",
     "text": [
      "SAMSUNG 75 POUCES SMART TV 4K UHD Neuf Samsung 655 000 Plateau Dakar https://i.roamcdn.net/hz/ed/listing-thumb-224w/8ad0fe655185d468ccdfa1670e54972a/-/horizon-files-prod/ed/picture/q8v5n4wp/39d4721bc1849d6420055bf33282b1c358b9d940.jpg\n"
     ]
    }
   ],
   "source": [
    "from selenium import webdriver\n",
    "from selenium.webdriver.chrome.service import Service\n",
    "from selenium.webdriver.common.by import By\n",
    "from selenium.webdriver.support.ui import WebDriverWait\n",
    "from selenium.webdriver.support import expected_conditions as EC\n",
    "from bs4 import BeautifulSoup as bs\n",
    "import pandas as pd\n",
    "import time\n",
    "\n",
    "# Configurer Selenium pour charger la page\n",
    "chrome_options = webdriver.ChromeOptions()\n",
    "chrome_options.add_argument('--headless')\n",
    "driver = webdriver.Chrome(options=chrome_options)\n",
    "driver.implicitly_wait(10)\n",
    "url3= \"https://www.expat-dakar.com/tv-home-cinema\"\n",
    "driver.get(url3)  # Récupération du code HTML de la page\n",
    "Page_source = driver.page_source\n",
    "soup = bs(driver.page_source, 'html.parser')\n",
    "# Rechercher tous les éléments d'annonce\n",
    "WebDriverWait(driver, 10).until(\n",
    "            EC.presence_of_element_located((By.CLASS_NAME, \"listings-cards__list-item \")))\n",
    "infos = soup.find_all('div', class_='listings-cards__list-item')\n",
    "info = infos[0]\n",
    "# Détails de l'annonce\n",
    "details = info.find('div', class_='listing-card__header__title').text.strip()\n",
    "# État de l'annonce\n",
    "etat = info.find('span', class_='listing-card__header__tags__item listing-card__header__tags__item--condition listing-card__header__tags__item--condition_new').text.strip()\n",
    "# Marque de l'annonce\n",
    "marque =info.find('div', class_='listing-card__header__tags').text.strip().replace(etat,'')\n",
    "# Prix\n",
    "prix = info.find('span', class_='listing-card__price__deal').text.strip().replace('F Cfa','').replace(' ','')\n",
    "# Adresse\n",
    "adresse = ' '.join(info.find('div', class_=\"listing-card__header__location\").text.strip().split()).replace(',', '')\n",
    "# Lien de l'image\n",
    "image_lien = info.find('img', class_='listing-card__image__resource vh-img')['src']\n",
    "# Afficher les informations\n",
    "print(details, etat, marque, prix, adresse, image_lien)"
   ]
  },
  {
   "cell_type": "code",
   "execution_count": 30,
   "metadata": {},
   "outputs": [
    {
     "data": {
      "text/plain": [
       "(247, 6)"
      ]
     },
     "execution_count": 30,
     "metadata": {},
     "output_type": "execute_result"
    }
   ],
   "source": [
    "data = []\n",
    "for p in range(1, 186):\n",
    "    url3 = f\"https://www.expat-dakar.com/tv-home-cinema?page={p}\"\n",
    "    driver.get(url3)  # recupereration du code html de la page\n",
    "    Page_source = driver.page_source\n",
    "    WebDriverWait(driver, 10).until(\n",
    "            EC.presence_of_element_located((By.CLASS_NAME, \"listings-cards__list-item\")))\n",
    "    soup = bs(Page_source, 'html.parser')\n",
    "    infos = soup.find_all('div', class_='listings-cards__list-item')\n",
    "    for info in infos:\n",
    "        try:\n",
    "            # Détails de l'annonce\n",
    "            details = info.find('div', class_='listing-card__header__title').text.strip()\n",
    "            # État de l'annonce\n",
    "            etat = info.find('span', class_='listing-card__header__tags__item listing-card__header__tags__item--condition listing-card__header__tags__item--condition_new').text.strip()\n",
    "            # Marque de l'annonce\n",
    "            marque =info.find('div', class_='listing-card__header__tags').text.strip().replace(etat,'')\n",
    "            # Prix\n",
    "            prix = info.find('span', class_='listing-card__price__deal').text.strip().replace('F Cfa','').replace(' ','')\n",
    "            # Adresse\n",
    "            adresse = ' '.join(info.find('div', class_=\"listing-card__header__location\").text.strip().split()).replace(',', '')\n",
    "            # Lien de l'image\n",
    "            image_lien = info.find('img', class_='listing-card__image__resource vh-img')['src']\n",
    "            dic = {'details':details, 'etat':etat, 'marque':marque, 'prix': prix, 'adresse':adresse, 'image_lien': image_lien}\n",
    "            data.append(dic)\n",
    "\n",
    "\n",
    "        except:\n",
    "            pass\n",
    "\n",
    "# Convertir le set en liste de dictionnaires\n",
    "DF = pd.DataFrame(data)\n",
    "DF.shape"
   ]
  },
  {
   "cell_type": "code",
   "execution_count": 31,
   "metadata": {},
   "outputs": [
    {
     "data": {
      "text/html": [
       "<div>\n",
       "<style scoped>\n",
       "    .dataframe tbody tr th:only-of-type {\n",
       "        vertical-align: middle;\n",
       "    }\n",
       "\n",
       "    .dataframe tbody tr th {\n",
       "        vertical-align: top;\n",
       "    }\n",
       "\n",
       "    .dataframe thead th {\n",
       "        text-align: right;\n",
       "    }\n",
       "</style>\n",
       "<table border=\"1\" class=\"dataframe\">\n",
       "  <thead>\n",
       "    <tr style=\"text-align: right;\">\n",
       "      <th></th>\n",
       "      <th>details</th>\n",
       "      <th>etat</th>\n",
       "      <th>marque</th>\n",
       "      <th>prix</th>\n",
       "      <th>adresse</th>\n",
       "      <th>image_lien</th>\n",
       "    </tr>\n",
       "  </thead>\n",
       "  <tbody>\n",
       "    <tr>\n",
       "      <th>0</th>\n",
       "      <td>SAMSUNG 75 POUCES SMART TV 4K UHD</td>\n",
       "      <td>Neuf</td>\n",
       "      <td>Samsung</td>\n",
       "      <td>655 000</td>\n",
       "      <td>Plateau Dakar</td>\n",
       "      <td>https://i.roamcdn.net/hz/ed/listing-thumb-224w...</td>\n",
       "    </tr>\n",
       "    <tr>\n",
       "      <th>1</th>\n",
       "      <td>SMART TV FINIX 55 POUCES WIFI ANDROID UHD</td>\n",
       "      <td>Neuf</td>\n",
       "      <td>Autre</td>\n",
       "      <td>245 000</td>\n",
       "      <td>Keur Massar Dakar</td>\n",
       "      <td>https://i.roamcdn.net/hz/ed/listing-thumb-224w...</td>\n",
       "    </tr>\n",
       "    <tr>\n",
       "      <th>2</th>\n",
       "      <td>SMART LG 55\" UHD 4K (2024)</td>\n",
       "      <td>Neuf</td>\n",
       "      <td>LG</td>\n",
       "      <td>330 000</td>\n",
       "      <td>Pikine Dakar</td>\n",
       "      <td>https://i.roamcdn.net/hz/ed/listing-thumb-224w...</td>\n",
       "    </tr>\n",
       "    <tr>\n",
       "      <th>3</th>\n",
       "      <td>SMART TV FINIX 43 POUCES WIFI 10.8CM</td>\n",
       "      <td>Neuf</td>\n",
       "      <td>Autre</td>\n",
       "      <td>130 000</td>\n",
       "      <td>Keur Massar Dakar</td>\n",
       "      <td>https://i.roamcdn.net/hz/ed/listing-thumb-224w...</td>\n",
       "    </tr>\n",
       "    <tr>\n",
       "      <th>4</th>\n",
       "      <td>SAMSUNG 75 POUCES SMART TV 4K UHD</td>\n",
       "      <td>Neuf</td>\n",
       "      <td>Samsung</td>\n",
       "      <td>655 000</td>\n",
       "      <td>Plateau Dakar</td>\n",
       "      <td>https://i.roamcdn.net/hz/ed/listing-thumb-224w...</td>\n",
       "    </tr>\n",
       "    <tr>\n",
       "      <th>5</th>\n",
       "      <td>SONY BRAVIA 85\" Google TV 4K</td>\n",
       "      <td>Neuf</td>\n",
       "      <td>Sony</td>\n",
       "      <td>1 400 000</td>\n",
       "      <td>Patte d‘oie Dakar</td>\n",
       "      <td>https://i.roamcdn.net/hz/ed/listing-thumb-224w...</td>\n",
       "    </tr>\n",
       "    <tr>\n",
       "      <th>6</th>\n",
       "      <td>smart samsung 65\" uhd 4k full options</td>\n",
       "      <td>Neuf</td>\n",
       "      <td>Samsung</td>\n",
       "      <td>424 900</td>\n",
       "      <td>Ouakam Dakar</td>\n",
       "      <td>https://i.roamcdn.net/hz/ed/listing-thumb-224w...</td>\n",
       "    </tr>\n",
       "    <tr>\n",
       "      <th>7</th>\n",
       "      <td>ASTECH TV LED 43 POUCES SMART TV WiFi</td>\n",
       "      <td>Neuf</td>\n",
       "      <td>Astech</td>\n",
       "      <td>132 000</td>\n",
       "      <td>Plateau Dakar</td>\n",
       "      <td>https://i.roamcdn.net/hz/ed/listing-thumb-224w...</td>\n",
       "    </tr>\n",
       "    <tr>\n",
       "      <th>8</th>\n",
       "      <td>SAMSUNG SMART 70\" UHD 4K</td>\n",
       "      <td>Neuf</td>\n",
       "      <td>Samsung</td>\n",
       "      <td>599 000</td>\n",
       "      <td>Pikine Dakar</td>\n",
       "      <td>https://i.roamcdn.net/hz/ed/listing-thumb-224w...</td>\n",
       "    </tr>\n",
       "    <tr>\n",
       "      <th>9</th>\n",
       "      <td>tv smart haier 43\" android full options</td>\n",
       "      <td>Neuf</td>\n",
       "      <td>Haier</td>\n",
       "      <td>129 900</td>\n",
       "      <td>Ouakam Dakar</td>\n",
       "      <td>https://i.roamcdn.net/hz/ed/listing-thumb-224w...</td>\n",
       "    </tr>\n",
       "  </tbody>\n",
       "</table>\n",
       "</div>"
      ],
      "text/plain": [
       "                                     details  etat   marque       prix  \\\n",
       "0          SAMSUNG 75 POUCES SMART TV 4K UHD  Neuf  Samsung    655 000   \n",
       "1  SMART TV FINIX 55 POUCES WIFI ANDROID UHD  Neuf    Autre    245 000   \n",
       "2                 SMART LG 55\" UHD 4K (2024)  Neuf       LG    330 000   \n",
       "3       SMART TV FINIX 43 POUCES WIFI 10.8CM  Neuf    Autre    130 000   \n",
       "4          SAMSUNG 75 POUCES SMART TV 4K UHD  Neuf  Samsung    655 000   \n",
       "5               SONY BRAVIA 85\" Google TV 4K  Neuf     Sony  1 400 000   \n",
       "6      smart samsung 65\" uhd 4k full options  Neuf  Samsung    424 900   \n",
       "7      ASTECH TV LED 43 POUCES SMART TV WiFi  Neuf   Astech    132 000   \n",
       "8                   SAMSUNG SMART 70\" UHD 4K  Neuf  Samsung    599 000   \n",
       "9    tv smart haier 43\" android full options  Neuf    Haier    129 900   \n",
       "\n",
       "             adresse                                         image_lien  \n",
       "0      Plateau Dakar  https://i.roamcdn.net/hz/ed/listing-thumb-224w...  \n",
       "1  Keur Massar Dakar  https://i.roamcdn.net/hz/ed/listing-thumb-224w...  \n",
       "2       Pikine Dakar  https://i.roamcdn.net/hz/ed/listing-thumb-224w...  \n",
       "3  Keur Massar Dakar  https://i.roamcdn.net/hz/ed/listing-thumb-224w...  \n",
       "4      Plateau Dakar  https://i.roamcdn.net/hz/ed/listing-thumb-224w...  \n",
       "5  Patte d‘oie Dakar  https://i.roamcdn.net/hz/ed/listing-thumb-224w...  \n",
       "6       Ouakam Dakar  https://i.roamcdn.net/hz/ed/listing-thumb-224w...  \n",
       "7      Plateau Dakar  https://i.roamcdn.net/hz/ed/listing-thumb-224w...  \n",
       "8       Pikine Dakar  https://i.roamcdn.net/hz/ed/listing-thumb-224w...  \n",
       "9       Ouakam Dakar  https://i.roamcdn.net/hz/ed/listing-thumb-224w...  "
      ]
     },
     "execution_count": 31,
     "metadata": {},
     "output_type": "execute_result"
    }
   ],
   "source": [
    "DF.head(10)"
   ]
  },
  {
   "cell_type": "code",
   "execution_count": 32,
   "metadata": {},
   "outputs": [
    {
     "data": {
      "text/plain": [
       "details       0\n",
       "etat          0\n",
       "marque        0\n",
       "prix          0\n",
       "adresse       0\n",
       "image_lien    0\n",
       "dtype: int64"
      ]
     },
     "execution_count": 32,
     "metadata": {},
     "output_type": "execute_result"
    }
   ],
   "source": [
    "DF.isnull().sum()"
   ]
  },
  {
   "cell_type": "code",
   "execution_count": 33,
   "metadata": {},
   "outputs": [
    {
     "data": {
      "text/plain": [
       "172"
      ]
     },
     "execution_count": 33,
     "metadata": {},
     "output_type": "execute_result"
    }
   ],
   "source": [
    "DF.duplicated().sum()"
   ]
  },
  {
   "cell_type": "code",
   "execution_count": 34,
   "metadata": {},
   "outputs": [
    {
     "data": {
      "text/plain": [
       "details       object\n",
       "etat          object\n",
       "marque        object\n",
       "prix          object\n",
       "adresse       object\n",
       "image_lien    object\n",
       "dtype: object"
      ]
     },
     "execution_count": 34,
     "metadata": {},
     "output_type": "execute_result"
    }
   ],
   "source": [
    "DF.dtypes"
   ]
  },
  {
   "cell_type": "code",
   "execution_count": 35,
   "metadata": {},
   "outputs": [
    {
     "data": {
      "text/html": [
       "<div>\n",
       "<style scoped>\n",
       "    .dataframe tbody tr th:only-of-type {\n",
       "        vertical-align: middle;\n",
       "    }\n",
       "\n",
       "    .dataframe tbody tr th {\n",
       "        vertical-align: top;\n",
       "    }\n",
       "\n",
       "    .dataframe thead th {\n",
       "        text-align: right;\n",
       "    }\n",
       "</style>\n",
       "<table border=\"1\" class=\"dataframe\">\n",
       "  <thead>\n",
       "    <tr style=\"text-align: right;\">\n",
       "      <th></th>\n",
       "      <th>details</th>\n",
       "      <th>etat</th>\n",
       "      <th>marque</th>\n",
       "      <th>prix</th>\n",
       "      <th>adresse</th>\n",
       "      <th>image_lien</th>\n",
       "    </tr>\n",
       "  </thead>\n",
       "  <tbody>\n",
       "    <tr>\n",
       "      <th>count</th>\n",
       "      <td>247</td>\n",
       "      <td>247</td>\n",
       "      <td>247</td>\n",
       "      <td>247</td>\n",
       "      <td>247</td>\n",
       "      <td>247</td>\n",
       "    </tr>\n",
       "    <tr>\n",
       "      <th>unique</th>\n",
       "      <td>74</td>\n",
       "      <td>1</td>\n",
       "      <td>13</td>\n",
       "      <td>59</td>\n",
       "      <td>13</td>\n",
       "      <td>75</td>\n",
       "    </tr>\n",
       "    <tr>\n",
       "      <th>top</th>\n",
       "      <td>SAMSUNG 75 POUCES SMART TV 4K UHD</td>\n",
       "      <td>Neuf</td>\n",
       "      <td>Samsung</td>\n",
       "      <td>655 000</td>\n",
       "      <td>Plateau Dakar</td>\n",
       "      <td>https://i.roamcdn.net/hz/ed/listing-thumb-224w...</td>\n",
       "    </tr>\n",
       "    <tr>\n",
       "      <th>freq</th>\n",
       "      <td>173</td>\n",
       "      <td>247</td>\n",
       "      <td>194</td>\n",
       "      <td>173</td>\n",
       "      <td>192</td>\n",
       "      <td>173</td>\n",
       "    </tr>\n",
       "  </tbody>\n",
       "</table>\n",
       "</div>"
      ],
      "text/plain": [
       "                                  details  etat   marque     prix  \\\n",
       "count                                 247   247      247      247   \n",
       "unique                                 74     1       13       59   \n",
       "top     SAMSUNG 75 POUCES SMART TV 4K UHD  Neuf  Samsung  655 000   \n",
       "freq                                  173   247      194      173   \n",
       "\n",
       "              adresse                                         image_lien  \n",
       "count             247                                                247  \n",
       "unique             13                                                 75  \n",
       "top     Plateau Dakar  https://i.roamcdn.net/hz/ed/listing-thumb-224w...  \n",
       "freq              192                                                173  "
      ]
     },
     "execution_count": 35,
     "metadata": {},
     "output_type": "execute_result"
    }
   ],
   "source": [
    "DF.describe()"
   ]
  },
  {
   "cell_type": "code",
   "execution_count": 36,
   "metadata": {},
   "outputs": [],
   "source": [
    "DF.to_csv('Home_Cinema.csv', index=False)\n",
    "DF.to_excel('Home_Cinema.xlsx', index=False)    "
   ]
  }
 ],
 "metadata": {
  "kernelspec": {
   "display_name": "base",
   "language": "python",
   "name": "python3"
  },
  "language_info": {
   "codemirror_mode": {
    "name": "ipython",
    "version": 3
   },
   "file_extension": ".py",
   "mimetype": "text/x-python",
   "name": "python",
   "nbconvert_exporter": "python",
   "pygments_lexer": "ipython3",
   "version": "3.12.7"
  }
 },
 "nbformat": 4,
 "nbformat_minor": 2
}
