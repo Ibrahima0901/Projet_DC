{
 "cells": [
  {
   "cell_type": "code",
   "execution_count": null,
   "metadata": {},
   "outputs": [
    {
     "name": "stdout",
     "output_type": "stream",
     "text": [
      "Redmi note 13 pro plus 256Gb scelle Neuf Xiaomi 220 000 Liberte 6 extension Dakar https://i.roamcdn.net/hz/ed/listing-thumb-224w/1dec66f9ab9363a73cc0faaba636900e/-/horizon-files-prod/ed/picture/q6xd9276/531c08d6c556e7fa2a542d1c0da5c0fd54728e42.jpg\n"
     ]
    }
   ],
   "source": [
    "from selenium import webdriver\n",
    "from selenium.webdriver.chrome.service import Service\n",
    "from selenium.webdriver.common.by import By\n",
    "from selenium.webdriver.support.ui import WebDriverWait\n",
    "from selenium.webdriver.support import expected_conditions as EC\n",
    "from bs4 import BeautifulSoup as bs\n",
    "import pandas as pd\n",
    "import time\n",
    "\n",
    "# Configurer Selenium pour charger la page\n",
    "chrome_options = webdriver.ChromeOptions()\n",
    "chrome_options.add_argument('--headless')\n",
    "driver = webdriver.Chrome(options=chrome_options)\n",
    "driver.implicitly_wait(10)\n",
    "url= \"https://www.expat-dakar.com/telephones\"\n",
    "driver.get(url)  # Récupération du code HTML de la page\n",
    "Page_source = driver.page_source\n",
    "soup = bs(driver.page_source, 'html.parser')\n",
    "# Rechercher tous les éléments d'annonce\n",
    "WebDriverWait(driver, 10).until(\n",
    "            EC.presence_of_element_located((By.CLASS_NAME, \"listings-cards__list-item\")))\n",
    "infos = soup.find_all('div', class_='listings-cards__list-item')\n",
    "info = infos[0]\n",
    "# Détails de l'annonce\n",
    "details = info.find('div', class_='listing-card__header__title').text.strip()\n",
    "# État de l'annonce\n",
    "etat = info.find('span', class_='listing-card__header__tags__item listing-card__header__tags__item--condition listing-card__header__tags__item--condition_new').text.strip()\n",
    "# Marque de l'annonce\n",
    "marque =info.find('div', class_='listing-card__header__tags').text.strip().replace(etat,'')\n",
    "# Prix\n",
    "prix = info.find('span', class_='listing-card__price').text.strip().replace('F Cfa','').replace(' ','')\n",
    "# Adresse\n",
    "adresse = ' '.join(info.find('div', class_=\"listing-card__header__location\").text.strip().split()).replace(',', '')\n",
    "# Lien de l'image\n",
    "image_lien = info.find('img', class_='listing-card__image__resource vh-img')['src']\n",
    "# Afficher les informations\n",
    "print(details, etat, marque, prix, adresse, image_lien)"
   ]
  },
  {
   "cell_type": "code",
   "execution_count": null,
   "metadata": {},
   "outputs": [
    {
     "data": {
      "text/plain": [
       "(849, 6)"
      ]
     },
     "execution_count": 26,
     "metadata": {},
     "output_type": "execute_result"
    }
   ],
   "source": [
    "data = []\n",
    "for p in range(1, 198):\n",
    "    url2= f\"https://www.expat-dakar.com/telephones?page={p}\"\n",
    "    driver.get(url2)  # recupereration du code html de la page\n",
    "    Page_source = driver.page_source\n",
    "    WebDriverWait(driver, 10).until(\n",
    "            EC.presence_of_element_located((By.CLASS_NAME, \"listings-cards__list-item\")))\n",
    "    soup = bs(Page_source, 'html.parser')\n",
    "    infos = soup.find_all('div', class_='listings-cards__list-item')\n",
    "    for info in infos:\n",
    "        try:\n",
    "            details = info.find('div', class_='listing-card__header__title').text.strip()\n",
    "            # État de l'annonce\n",
    "            etat = info.find('span', class_='listing-card__header__tags__item listing-card__header__tags__item--condition listing-card__header__tags__item--condition_new').text.strip()\n",
    "            # Marque de l'annonce\n",
    "            marque =info.find('div', class_='listing-card__header__tags').text.strip().replace(etat,'')\n",
    "            # Prix\n",
    "            prix = info.find('span', class_='listing-card__price').text.strip().replace('F Cfa','').replace(' ','')\n",
    "            # Adresse\n",
    "            adresse = ' '.join(info.find('div', class_=\"listing-card__header__location\").text.strip().split()).replace(',', '')\n",
    "            # Lien de l'image\n",
    "            image_lien = info.find('img', class_='listing-card__image__resource vh-img')['src']\n",
    "            # Afficher les informations\n",
    "            dic = {'details':details, 'etat':etat, 'marque':marque, 'prix': prix, 'adresse':adresse, 'image_lien': image_lien}\n",
    "            data.append(dic)\n",
    "\n",
    "\n",
    "        except:\n",
    "            pass\n",
    "\n",
    "# Convertir le set en liste de dictionnaires\n",
    "DF = pd.DataFrame(data)\n",
    "DF.shape"
   ]
  },
  {
   "cell_type": "code",
   "execution_count": 27,
   "metadata": {},
   "outputs": [
    {
     "data": {
      "text/html": [
       "<div>\n",
       "<style scoped>\n",
       "    .dataframe tbody tr th:only-of-type {\n",
       "        vertical-align: middle;\n",
       "    }\n",
       "\n",
       "    .dataframe tbody tr th {\n",
       "        vertical-align: top;\n",
       "    }\n",
       "\n",
       "    .dataframe thead th {\n",
       "        text-align: right;\n",
       "    }\n",
       "</style>\n",
       "<table border=\"1\" class=\"dataframe\">\n",
       "  <thead>\n",
       "    <tr style=\"text-align: right;\">\n",
       "      <th></th>\n",
       "      <th>details</th>\n",
       "      <th>etat</th>\n",
       "      <th>marque</th>\n",
       "      <th>prix</th>\n",
       "      <th>adresse</th>\n",
       "      <th>image_lien</th>\n",
       "    </tr>\n",
       "  </thead>\n",
       "  <tbody>\n",
       "    <tr>\n",
       "      <th>0</th>\n",
       "      <td>Redmi note 13 pro plus 256Gb scelle</td>\n",
       "      <td>Neuf</td>\n",
       "      <td>Xiaomi</td>\n",
       "      <td>220 000</td>\n",
       "      <td>Liberte 6 extension Dakar</td>\n",
       "      <td>https://i.roamcdn.net/hz/ed/listing-thumb-224w...</td>\n",
       "    </tr>\n",
       "    <tr>\n",
       "      <th>1</th>\n",
       "      <td>Nokia C1 deuxième édition 16go ram 1go 4g Avec...</td>\n",
       "      <td>Neuf</td>\n",
       "      <td>Nokia</td>\n",
       "      <td>40 000</td>\n",
       "      <td>Médina Dakar</td>\n",
       "      <td>https://i.roamcdn.net/hz/ed/listing-thumb-224w...</td>\n",
       "    </tr>\n",
       "    <tr>\n",
       "      <th>2</th>\n",
       "      <td>INFINIX HOT 40I 256 GO RAm 16go</td>\n",
       "      <td>Neuf</td>\n",
       "      <td>Infinix</td>\n",
       "      <td>79 900</td>\n",
       "      <td>Colobane Dakar</td>\n",
       "      <td>https://i.roamcdn.net/hz/ed/listing-thumb-224w...</td>\n",
       "    </tr>\n",
       "    <tr>\n",
       "      <th>3</th>\n",
       "      <td>16Plus 128Go SIM garantie 1ans</td>\n",
       "      <td>Neuf</td>\n",
       "      <td>iPhone</td>\n",
       "      <td>620 000</td>\n",
       "      <td>Plateau Dakar</td>\n",
       "      <td>https://i.roamcdn.net/hz/ed/listing-thumb-224w...</td>\n",
       "    </tr>\n",
       "    <tr>\n",
       "      <th>4</th>\n",
       "      <td>Watch S9 45mm scellé</td>\n",
       "      <td>Neuf</td>\n",
       "      <td>iPhone</td>\n",
       "      <td>240 000</td>\n",
       "      <td>Médina Dakar</td>\n",
       "      <td>https://i.roamcdn.net/hz/ed/listing-thumb-224w...</td>\n",
       "    </tr>\n",
       "    <tr>\n",
       "      <th>5</th>\n",
       "      <td>Samsung Galaxy S25ultra 512giga neuf scellé</td>\n",
       "      <td>Neuf</td>\n",
       "      <td>Samsung</td>\n",
       "      <td>855 000</td>\n",
       "      <td>Médina Dakar</td>\n",
       "      <td>https://i.roamcdn.net/hz/ed/listing-thumb-224w...</td>\n",
       "    </tr>\n",
       "    <tr>\n",
       "      <th>6</th>\n",
       "      <td>iphone 7 plus</td>\n",
       "      <td>Neuf</td>\n",
       "      <td>iPhone</td>\n",
       "      <td>55 000</td>\n",
       "      <td>Médina Dakar</td>\n",
       "      <td>https://i.roamcdn.net/hz/ed/listing-thumb-224w...</td>\n",
       "    </tr>\n",
       "    <tr>\n",
       "      <th>7</th>\n",
       "      <td>M-horse s22 64go mémoire ram 4go</td>\n",
       "      <td>Neuf</td>\n",
       "      <td>Autres</td>\n",
       "      <td>35 000</td>\n",
       "      <td>Parcelles Assainies Dakar</td>\n",
       "      <td>https://i.roamcdn.net/hz/ed/listing-thumb-224w...</td>\n",
       "    </tr>\n",
       "    <tr>\n",
       "      <th>8</th>\n",
       "      <td>Xiaomi redmi note 13pro plus neuf 256go ram 8go</td>\n",
       "      <td>Neuf</td>\n",
       "      <td>Xiaomi</td>\n",
       "      <td>175 000</td>\n",
       "      <td>Parcelles Assainies Dakar</td>\n",
       "      <td>https://i.roamcdn.net/hz/ed/listing-thumb-224w...</td>\n",
       "    </tr>\n",
       "    <tr>\n",
       "      <th>9</th>\n",
       "      <td>Samsung galaxy A06 neuf 128go ram 4go</td>\n",
       "      <td>Neuf</td>\n",
       "      <td>Samsung</td>\n",
       "      <td>63 000</td>\n",
       "      <td>Parcelles Assainies Dakar</td>\n",
       "      <td>https://i.roamcdn.net/hz/ed/listing-thumb-224w...</td>\n",
       "    </tr>\n",
       "  </tbody>\n",
       "</table>\n",
       "</div>"
      ],
      "text/plain": [
       "                                             details  etat   marque     prix  \\\n",
       "0                Redmi note 13 pro plus 256Gb scelle  Neuf   Xiaomi  220 000   \n",
       "1  Nokia C1 deuxième édition 16go ram 1go 4g Avec...  Neuf    Nokia   40 000   \n",
       "2                    INFINIX HOT 40I 256 GO RAm 16go  Neuf  Infinix   79 900   \n",
       "3                     16Plus 128Go SIM garantie 1ans  Neuf   iPhone  620 000   \n",
       "4                               Watch S9 45mm scellé  Neuf   iPhone  240 000   \n",
       "5        Samsung Galaxy S25ultra 512giga neuf scellé  Neuf  Samsung  855 000   \n",
       "6                                      iphone 7 plus  Neuf   iPhone   55 000   \n",
       "7                   M-horse s22 64go mémoire ram 4go  Neuf   Autres   35 000   \n",
       "8    Xiaomi redmi note 13pro plus neuf 256go ram 8go  Neuf   Xiaomi  175 000   \n",
       "9              Samsung galaxy A06 neuf 128go ram 4go  Neuf  Samsung   63 000   \n",
       "\n",
       "                     adresse  \\\n",
       "0  Liberte 6 extension Dakar   \n",
       "1               Médina Dakar   \n",
       "2             Colobane Dakar   \n",
       "3              Plateau Dakar   \n",
       "4               Médina Dakar   \n",
       "5               Médina Dakar   \n",
       "6               Médina Dakar   \n",
       "7  Parcelles Assainies Dakar   \n",
       "8  Parcelles Assainies Dakar   \n",
       "9  Parcelles Assainies Dakar   \n",
       "\n",
       "                                          image_lien  \n",
       "0  https://i.roamcdn.net/hz/ed/listing-thumb-224w...  \n",
       "1  https://i.roamcdn.net/hz/ed/listing-thumb-224w...  \n",
       "2  https://i.roamcdn.net/hz/ed/listing-thumb-224w...  \n",
       "3  https://i.roamcdn.net/hz/ed/listing-thumb-224w...  \n",
       "4  https://i.roamcdn.net/hz/ed/listing-thumb-224w...  \n",
       "5  https://i.roamcdn.net/hz/ed/listing-thumb-224w...  \n",
       "6  https://i.roamcdn.net/hz/ed/listing-thumb-224w...  \n",
       "7  https://i.roamcdn.net/hz/ed/listing-thumb-224w...  \n",
       "8  https://i.roamcdn.net/hz/ed/listing-thumb-224w...  \n",
       "9  https://i.roamcdn.net/hz/ed/listing-thumb-224w...  "
      ]
     },
     "execution_count": 27,
     "metadata": {},
     "output_type": "execute_result"
    }
   ],
   "source": [
    "DF.head(10)"
   ]
  },
  {
   "cell_type": "code",
   "execution_count": 28,
   "metadata": {},
   "outputs": [
    {
     "data": {
      "text/plain": [
       "details       0\n",
       "etat          0\n",
       "marque        0\n",
       "prix          0\n",
       "adresse       0\n",
       "image_lien    0\n",
       "dtype: int64"
      ]
     },
     "execution_count": 28,
     "metadata": {},
     "output_type": "execute_result"
    }
   ],
   "source": [
    "DF.isnull().sum()"
   ]
  },
  {
   "cell_type": "code",
   "execution_count": 19,
   "metadata": {},
   "outputs": [
    {
     "data": {
      "text/plain": [
       "0"
      ]
     },
     "execution_count": 19,
     "metadata": {},
     "output_type": "execute_result"
    }
   ],
   "source": [
    "DF.duplicated().sum()"
   ]
  },
  {
   "cell_type": "code",
   "execution_count": 29,
   "metadata": {},
   "outputs": [
    {
     "data": {
      "text/plain": [
       "details       object\n",
       "etat          object\n",
       "marque        object\n",
       "prix          object\n",
       "adresse       object\n",
       "image_lien    object\n",
       "dtype: object"
      ]
     },
     "execution_count": 29,
     "metadata": {},
     "output_type": "execute_result"
    }
   ],
   "source": [
    "DF.dtypes"
   ]
  },
  {
   "cell_type": "code",
   "execution_count": 30,
   "metadata": {},
   "outputs": [
    {
     "data": {
      "text/html": [
       "<div>\n",
       "<style scoped>\n",
       "    .dataframe tbody tr th:only-of-type {\n",
       "        vertical-align: middle;\n",
       "    }\n",
       "\n",
       "    .dataframe tbody tr th {\n",
       "        vertical-align: top;\n",
       "    }\n",
       "\n",
       "    .dataframe thead th {\n",
       "        text-align: right;\n",
       "    }\n",
       "</style>\n",
       "<table border=\"1\" class=\"dataframe\">\n",
       "  <thead>\n",
       "    <tr style=\"text-align: right;\">\n",
       "      <th></th>\n",
       "      <th>details</th>\n",
       "      <th>etat</th>\n",
       "      <th>marque</th>\n",
       "      <th>prix</th>\n",
       "      <th>adresse</th>\n",
       "      <th>image_lien</th>\n",
       "    </tr>\n",
       "  </thead>\n",
       "  <tbody>\n",
       "    <tr>\n",
       "      <th>count</th>\n",
       "      <td>849</td>\n",
       "      <td>849</td>\n",
       "      <td>849</td>\n",
       "      <td>849</td>\n",
       "      <td>849</td>\n",
       "      <td>849</td>\n",
       "    </tr>\n",
       "    <tr>\n",
       "      <th>unique</th>\n",
       "      <td>796</td>\n",
       "      <td>1</td>\n",
       "      <td>25</td>\n",
       "      <td>304</td>\n",
       "      <td>33</td>\n",
       "      <td>849</td>\n",
       "    </tr>\n",
       "    <tr>\n",
       "      <th>top</th>\n",
       "      <td>iPhone 13 simple</td>\n",
       "      <td>Neuf</td>\n",
       "      <td>iPhone</td>\n",
       "      <td>850 000</td>\n",
       "      <td>Plateau Dakar</td>\n",
       "      <td>https://i.roamcdn.net/hz/ed/listing-thumb-224w...</td>\n",
       "    </tr>\n",
       "    <tr>\n",
       "      <th>freq</th>\n",
       "      <td>4</td>\n",
       "      <td>849</td>\n",
       "      <td>314</td>\n",
       "      <td>20</td>\n",
       "      <td>257</td>\n",
       "      <td>1</td>\n",
       "    </tr>\n",
       "  </tbody>\n",
       "</table>\n",
       "</div>"
      ],
      "text/plain": [
       "                 details  etat  marque     prix        adresse  \\\n",
       "count                849   849     849      849            849   \n",
       "unique               796     1      25      304             33   \n",
       "top     iPhone 13 simple  Neuf  iPhone  850 000  Plateau Dakar   \n",
       "freq                   4   849     314       20            257   \n",
       "\n",
       "                                               image_lien  \n",
       "count                                                 849  \n",
       "unique                                                849  \n",
       "top     https://i.roamcdn.net/hz/ed/listing-thumb-224w...  \n",
       "freq                                                    1  "
      ]
     },
     "execution_count": 30,
     "metadata": {},
     "output_type": "execute_result"
    }
   ],
   "source": [
    "DF.describe()"
   ]
  },
  {
   "cell_type": "code",
   "execution_count": 31,
   "metadata": {},
   "outputs": [],
   "source": [
    "DF.to_csv('Telephones_expat_dakar.csv', index=False)\n",
    "DF.to_excel('Telephones_expat_dakar.xlsx', index=False) "
   ]
  }
 ],
 "metadata": {
  "kernelspec": {
   "display_name": "base",
   "language": "python",
   "name": "python3"
  },
  "language_info": {
   "codemirror_mode": {
    "name": "ipython",
    "version": 3
   },
   "file_extension": ".py",
   "mimetype": "text/x-python",
   "name": "python",
   "nbconvert_exporter": "python",
   "pygments_lexer": "ipython3",
   "version": "3.12.7"
  }
 },
 "nbformat": 4,
 "nbformat_minor": 2
}
