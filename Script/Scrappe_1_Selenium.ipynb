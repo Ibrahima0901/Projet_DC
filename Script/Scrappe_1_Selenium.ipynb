{
 "cells": [
  {
   "cell_type": "markdown",
   "metadata": {},
   "source": [
    "Scraper en ligne "
   ]
  },
  {
   "cell_type": "code",
   "execution_count": null,
   "metadata": {},
   "outputs": [],
   "source": [
    "import pandas as pd\n",
    "from selenium import webdriver  \n",
    "from selenium.webdriver.common.by import By\n",
    "from selenium.webdriver.chrome.options import Options\n",
    "from bs4 import BeautifulSoup as bs"
   ]
  },
  {
   "cell_type": "code",
   "execution_count": null,
   "metadata": {},
   "outputs": [],
   "source": [
    "url=\"https://www.expat-dakar.com/ordinateurs\"\n",
    "chrome_options = webdriver.ChromeOptions()\n",
    "chrome_options.add_argument('--headless')\n",
    "driver = webdriver.Chrome(options=chrome_options)\n",
    "driver.get(url)\n",
    "driver.implicitly_wait(10)\n",
    "#Recuperation du code source de la page\n",
    "Page_source = driver.page_source\n",
    "#Utilisation de BeautifulSoup pour parser le code source\n",
    "soup = bs(Page_source, 'html.parser')\n",
    "containers = soup.find_all('div', class_  =\"listings-cards__list-item\" )\n",
    "container = containers[0]\n",
    "#Recuperation de l'etat de l'ordinateur\n",
    "etat_ordinateur=container.find('div', class_=\"listing-card__header__tags\").text.strip().replace('MSI','')\n",
    "marque_ordinateur=container.find('div', class_=\"listing-card__header__title\").text.strip()\n",
    "#Recuperation du prix de l'ordinateur\n",
    "prix_ordinateur=container.find('span', class_=\"listing-card__price\").text.strip().replace('F Cfa','').replace(' ','')\n",
    "#Recuperation de l'adresse de l'ordinateur\n",
    "adresse = ' '.join(container.find('div', class_=\"listing-card__header__location\").text.strip().split()).replace(',', '')\n",
    "#Recuperation de l'image de l'ordinateur\n",
    "image_ordinateur=container.find('img', class_=\"listing-card__image__resource vh-img\")['src']\n",
    "print(etat_ordinateur, marque_ordinateur, prix_ordinateur, adresse, image_ordinateur)"
   ]
  },
  {
   "cell_type": "code",
   "execution_count": null,
   "metadata": {},
   "outputs": [
    {
     "data": {
      "text/plain": [
       "(2433, 5)"
      ]
     },
     "execution_count": 25,
     "metadata": {},
     "output_type": "execute_result"
    }
   ],
   "source": [
    "data = []\n",
    "for p in range(1, 251):\n",
    "    url1 = f\"https://www.expat-dakar.com/ordinateurs?page={p}\"\n",
    "    driver.get(url1)  # recupereration du code html de la page\n",
    "    Page_source = driver.page_source\n",
    "    soup = bs(Page_source, 'html.parser')\n",
    "    containers = soup.find_all('div', class_=\"listings-cards__list-item\")\n",
    "    for container in containers:\n",
    "        try:\n",
    "            # Recuperation de l'etat de l'ordinateur\n",
    "            etat_ordinateur = container.find('div', class_=\"listing-card__header__tags\").text.strip().replace('MSI', '')\n",
    "            # Recuperation de la marque de l'ordinateur\n",
    "            marque_ordinateur = container.find('div', class_=\"listing-card__header__title\").text.strip()\n",
    "            # Recuperation du prix de l'ordinateur\n",
    "            prix_ordinateur = container.find('span', class_=\"listing-card__price\").text.strip().replace('F Cfa', '').replace(' ', '')\n",
    "            # Recuperation de l'adresse de l'ordinateur\n",
    "            adresse = ' '.join(container.find('div', class_=\"listing-card__header__location\").text.strip().split()).replace(',', '')\n",
    "            # Recuperation de l'image de l'ordinateur\n",
    "            image_ordinateur = container.find('img', class_=\"listing-card__image__resource vh-img\")['src']\n",
    "            dict_ = {'etat_ordinateur': etat_ordinateur, 'marque_ordinateur': marque_ordinateur, 'prix_ordinateur': prix_ordinateur, 'adresse': adresse, 'image_ordinateur': image_ordinateur}  # dictionnaire\n",
    "            data.append(dict_)  # ajout du dictionnaire dans la liste data\n",
    "        except:\n",
    "            pass\n",
    "\n",
    "DF = pd.DataFrame(data)\n",
    "DF.shape"
   ]
  },
  {
   "cell_type": "code",
   "execution_count": 26,
   "metadata": {},
   "outputs": [
    {
     "name": "stdout",
     "output_type": "stream",
     "text": [
      "<class 'pandas.core.frame.DataFrame'>\n",
      "RangeIndex: 2433 entries, 0 to 2432\n",
      "Data columns (total 5 columns):\n",
      " #   Column             Non-Null Count  Dtype \n",
      "---  ------             --------------  ----- \n",
      " 0   etat_ordinateur    2433 non-null   object\n",
      " 1   marque_ordinateur  2433 non-null   object\n",
      " 2   prix_ordinateur    2433 non-null   object\n",
      " 3   adresse            2433 non-null   object\n",
      " 4   image_ordinateur   2433 non-null   object\n",
      "dtypes: object(5)\n",
      "memory usage: 95.2+ KB\n"
     ]
    }
   ],
   "source": [
    "DF.info()"
   ]
  },
  {
   "cell_type": "code",
   "execution_count": 27,
   "metadata": {},
   "outputs": [
    {
     "data": {
      "text/html": [
       "<div>\n",
       "<style scoped>\n",
       "    .dataframe tbody tr th:only-of-type {\n",
       "        vertical-align: middle;\n",
       "    }\n",
       "\n",
       "    .dataframe tbody tr th {\n",
       "        vertical-align: top;\n",
       "    }\n",
       "\n",
       "    .dataframe thead th {\n",
       "        text-align: right;\n",
       "    }\n",
       "</style>\n",
       "<table border=\"1\" class=\"dataframe\">\n",
       "  <thead>\n",
       "    <tr style=\"text-align: right;\">\n",
       "      <th></th>\n",
       "      <th>etat_ordinateur</th>\n",
       "      <th>marque_ordinateur</th>\n",
       "      <th>prix_ordinateur</th>\n",
       "      <th>adresse</th>\n",
       "      <th>image_ordinateur</th>\n",
       "    </tr>\n",
       "  </thead>\n",
       "  <tbody>\n",
       "    <tr>\n",
       "      <th>count</th>\n",
       "      <td>2433</td>\n",
       "      <td>2433</td>\n",
       "      <td>2433</td>\n",
       "      <td>2433</td>\n",
       "      <td>2433</td>\n",
       "    </tr>\n",
       "    <tr>\n",
       "      <th>unique</th>\n",
       "      <td>45</td>\n",
       "      <td>2267</td>\n",
       "      <td>314</td>\n",
       "      <td>46</td>\n",
       "      <td>2433</td>\n",
       "    </tr>\n",
       "    <tr>\n",
       "      <th>top</th>\n",
       "      <td>NeufHP</td>\n",
       "      <td>Promo☄️Hp EliteBook 840 Corei5 256ssd Ram8</td>\n",
       "      <td>150 000</td>\n",
       "      <td>Médina Dakar</td>\n",
       "      <td>https://i.roamcdn.net/hz/ed/listing-thumb-224w...</td>\n",
       "    </tr>\n",
       "    <tr>\n",
       "      <th>freq</th>\n",
       "      <td>405</td>\n",
       "      <td>13</td>\n",
       "      <td>109</td>\n",
       "      <td>916</td>\n",
       "      <td>1</td>\n",
       "    </tr>\n",
       "  </tbody>\n",
       "</table>\n",
       "</div>"
      ],
      "text/plain": [
       "       etat_ordinateur                           marque_ordinateur  \\\n",
       "count             2433                                        2433   \n",
       "unique              45                                        2267   \n",
       "top             NeufHP  Promo☄️Hp EliteBook 840 Corei5 256ssd Ram8   \n",
       "freq               405                                          13   \n",
       "\n",
       "       prix_ordinateur       adresse  \\\n",
       "count             2433          2433   \n",
       "unique             314            46   \n",
       "top            150 000  Médina Dakar   \n",
       "freq               109           916   \n",
       "\n",
       "                                         image_ordinateur  \n",
       "count                                                2433  \n",
       "unique                                               2433  \n",
       "top     https://i.roamcdn.net/hz/ed/listing-thumb-224w...  \n",
       "freq                                                    1  "
      ]
     },
     "execution_count": 27,
     "metadata": {},
     "output_type": "execute_result"
    }
   ],
   "source": [
    "DF.describe()"
   ]
  },
  {
   "cell_type": "code",
   "execution_count": 28,
   "metadata": {},
   "outputs": [
    {
     "data": {
      "text/plain": [
       "etat_ordinateur      object\n",
       "marque_ordinateur    object\n",
       "prix_ordinateur      object\n",
       "adresse              object\n",
       "image_ordinateur     object\n",
       "dtype: object"
      ]
     },
     "execution_count": 28,
     "metadata": {},
     "output_type": "execute_result"
    }
   ],
   "source": [
    "DF.dtypes"
   ]
  },
  {
   "cell_type": "code",
   "execution_count": 29,
   "metadata": {},
   "outputs": [
    {
     "data": {
      "text/plain": [
       "etat_ordinateur      0\n",
       "marque_ordinateur    0\n",
       "prix_ordinateur      0\n",
       "adresse              0\n",
       "image_ordinateur     0\n",
       "dtype: int64"
      ]
     },
     "execution_count": 29,
     "metadata": {},
     "output_type": "execute_result"
    }
   ],
   "source": [
    "DF.isnull().sum()"
   ]
  },
  {
   "cell_type": "code",
   "execution_count": 30,
   "metadata": {},
   "outputs": [
    {
     "data": {
      "text/plain": [
       "0"
      ]
     },
     "execution_count": 30,
     "metadata": {},
     "output_type": "execute_result"
    }
   ],
   "source": [
    "DF.duplicated().sum()"
   ]
  },
  {
   "cell_type": "code",
   "execution_count": 31,
   "metadata": {},
   "outputs": [],
   "source": [
    "DF.to_csv('ordinateurs.csv', index=False)"
   ]
  },
  {
   "cell_type": "code",
   "execution_count": 33,
   "metadata": {},
   "outputs": [],
   "source": [
    "DF.to_excel('ordinateurs.xlsx', index=False)"
   ]
  }
 ],
 "metadata": {
  "kernelspec": {
   "display_name": "Python (py)",
   "language": "python",
   "name": "myenv"
  },
  "language_info": {
   "codemirror_mode": {
    "name": "ipython",
    "version": 3
   },
   "file_extension": ".py",
   "mimetype": "text/x-python",
   "name": "python",
   "nbconvert_exporter": "python",
   "pygments_lexer": "ipython3",
   "version": "3.12.7"
  }
 },
 "nbformat": 4,
 "nbformat_minor": 2
}
